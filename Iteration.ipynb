{
 "cells": [
  {
   "cell_type": "code",
   "execution_count": 2,
   "metadata": {
    "collapsed": true
   },
   "outputs": [],
   "source": [
    "colors = ['red', 'green', 'blue', 'yellow']\n",
    "names = ['raymond', 'rachel', 'mathew']"
   ]
  },
  {
   "cell_type": "code",
   "execution_count": 45,
   "metadata": {
    "collapsed": false
   },
   "outputs": [
    {
     "name": "stdout",
     "output_type": "stream",
     "text": [
      "raymond, rachel, mathew\n"
     ]
    }
   ],
   "source": [
    "print ', '.join(names)"
   ]
  },
  {
   "cell_type": "code",
   "execution_count": 2,
   "metadata": {
    "collapsed": false,
    "scrolled": true
   },
   "outputs": [
    {
     "name": "stdout",
     "output_type": "stream",
     "text": [
      "yellow\n",
      "blue\n",
      "green\n",
      "red\n"
     ]
    }
   ],
   "source": [
    "for color in reversed(colors):\n",
    "    print color"
   ]
  },
  {
   "cell_type": "code",
   "execution_count": 3,
   "metadata": {
    "collapsed": false
   },
   "outputs": [
    {
     "name": "stdout",
     "output_type": "stream",
     "text": [
      "raymond -> red\n",
      "rachel -> green\n",
      "mathew -> blue\n"
     ]
    }
   ],
   "source": [
    "for name, color in zip(names, colors):\n",
    "    print name, '->', color"
   ]
  },
  {
   "cell_type": "code",
   "execution_count": 4,
   "metadata": {
    "collapsed": false
   },
   "outputs": [
    {
     "name": "stdout",
     "output_type": "stream",
     "text": [
      "yellow\n",
      "red\n",
      "green\n",
      "blue\n"
     ]
    }
   ],
   "source": [
    "for color in sorted(colors, reverse=True):\n",
    "    print color"
   ]
  },
  {
   "cell_type": "code",
   "execution_count": 5,
   "metadata": {
    "collapsed": false
   },
   "outputs": [
    {
     "name": "stdout",
     "output_type": "stream",
     "text": [
      "red\n",
      "blue\n",
      "green\n",
      "yellow\n"
     ]
    }
   ],
   "source": [
    "for color in sorted(colors, key=len):\n",
    "    print color"
   ]
  },
  {
   "cell_type": "code",
   "execution_count": 8,
   "metadata": {
    "collapsed": false
   },
   "outputs": [
    {
     "data": {
      "text/plain": [
       "[(1, 2), (2, 3), (3, 4), (4, 5), (5, 1)]"
      ]
     },
     "execution_count": 8,
     "metadata": {},
     "output_type": "execute_result"
    }
   ],
   "source": [
    "from itertools import cycle, islice\n",
    "numbers = [1,2,3,4,5]\n",
    "zip(numbers, islice(cycle(numbers), 1, len(numbers)+1)) # Wrapped around sequence of following two numbers in list"
   ]
  },
  {
   "cell_type": "code",
   "execution_count": 19,
   "metadata": {
    "collapsed": false
   },
   "outputs": [
    {
     "data": {
      "text/plain": [
       "[(1, 2), (2, 5), (5, 4), (4, 8), (8, 1)]"
      ]
     },
     "execution_count": 19,
     "metadata": {},
     "output_type": "execute_result"
    }
   ],
   "source": [
    "from itertools import izip, cycle, islice\n",
    "\n",
    "def wrappedFollowers(iterable, shift=1):\n",
    "    try:\n",
    "        return izip(iterable, islice(cycle(iterable), shift, len(iterable)+shift))\n",
    "    except TypeError:\n",
    "        raise TypeError('The iterable must have a fixed length')\n",
    "\n",
    "list(wrappedFollowers([1,2,5,4,8]))"
   ]
  },
  {
   "cell_type": "code",
   "execution_count": 12,
   "metadata": {
    "collapsed": false
   },
   "outputs": [
    {
     "name": "stdout",
     "output_type": "stream",
     "text": [
      "1\n",
      "2\n",
      "3\n",
      "None\n",
      "4\n",
      "5\n"
     ]
    }
   ],
   "source": [
    "valueGen = (i for i in (1,2,3,None,4,5)) # Generator that creates values\n",
    "providerFun = lambda: valueGen.next() # Function that provides them in sequence\n",
    "\n",
    "while True:\n",
    "    try:\n",
    "        print providerFun()\n",
    "    except StopIteration:\n",
    "        break"
   ]
  },
  {
   "cell_type": "code",
   "execution_count": 11,
   "metadata": {
    "collapsed": false,
    "scrolled": true
   },
   "outputs": [
    {
     "name": "stdout",
     "output_type": "stream",
     "text": [
      "1\n",
      "2\n",
      "3\n"
     ]
    }
   ],
   "source": [
    "valueGen = (i for i in (1,2,3,None,4,5)) # Generator that creates values\n",
    "\n",
    "for n in iter(valueGen.next,None): # Create iterator from function and sentinel value\n",
    "    print n"
   ]
  },
  {
   "cell_type": "code",
   "execution_count": 19,
   "metadata": {
    "collapsed": false
   },
   "outputs": [
    {
     "name": "stdout",
     "output_type": "stream",
     "text": [
      "2\n",
      "-1\n"
     ]
    }
   ],
   "source": [
    "def find(seq, target):\n",
    "    \n",
    "    result = None\n",
    "    \n",
    "    for i, value in enumerate(seq):\n",
    "        if value == target:\n",
    "            result = i\n",
    "            break\n",
    "    else:\n",
    "        result = -1 # No result found in sequence\n",
    "    \n",
    "    return result\n",
    "\n",
    "print find([1,2,3,4], 3)\n",
    "print find([1,2,3,4], 5)"
   ]
  },
  {
   "cell_type": "code",
   "execution_count": 18,
   "metadata": {
    "collapsed": false
   },
   "outputs": [],
   "source": [
    "from functools import partial\n",
    "def add(a,b):\n",
    "    return a + b\n",
    "\n",
    "add10 = partial(add,b=10)"
   ]
  },
  {
   "cell_type": "code",
   "execution_count": 19,
   "metadata": {
    "collapsed": false
   },
   "outputs": [
    {
     "name": "stdout",
     "output_type": "stream",
     "text": [
      "13\n",
      "13\n"
     ]
    }
   ],
   "source": [
    "print add(10,3)\n",
    "print add10(3)"
   ]
  },
  {
   "cell_type": "code",
   "execution_count": 22,
   "metadata": {
    "collapsed": false
   },
   "outputs": [
    {
     "name": "stdout",
     "output_type": "stream",
     "text": [
      "{'mathew': 'blue', 'rachel': 'green', 'raymond': 'red'}\n",
      "{'rachel': 'green', 'raymond': 'red'}\n"
     ]
    }
   ],
   "source": [
    "d = dict(zip(names, colors))\n",
    "print d\n",
    "d = {k: d[k] for k in d if k.startswith('r')}\n",
    "print d"
   ]
  },
  {
   "cell_type": "code",
   "execution_count": 24,
   "metadata": {
    "collapsed": false
   },
   "outputs": [
    {
     "data": {
      "text/plain": [
       "{0: 'raymond', 1: 'rachel', 2: 'mathew'}"
      ]
     },
     "execution_count": 24,
     "metadata": {},
     "output_type": "execute_result"
    }
   ],
   "source": [
    "dict(enumerate(names))"
   ]
  },
  {
   "cell_type": "code",
   "execution_count": 27,
   "metadata": {
    "collapsed": false
   },
   "outputs": [
    {
     "data": {
      "text/plain": [
       "defaultdict(int, {'blue': 1, 'green': 1, 'red': 1, 'yellow': 1})"
      ]
     },
     "execution_count": 27,
     "metadata": {},
     "output_type": "execute_result"
    }
   ],
   "source": [
    "from collections import defaultdict\n",
    "\n",
    "d = defaultdict(int)\n",
    "for color in colors:\n",
    "    d[color] += 1\n",
    "d"
   ]
  },
  {
   "cell_type": "code",
   "execution_count": 28,
   "metadata": {
    "collapsed": false
   },
   "outputs": [
    {
     "data": {
      "text/plain": [
       "defaultdict(list, {6: ['rachel', 'mathew'], 7: ['raymond']})"
      ]
     },
     "execution_count": 28,
     "metadata": {},
     "output_type": "execute_result"
    }
   ],
   "source": [
    "from collections import defaultdict\n",
    "\n",
    "d = defaultdict(list)\n",
    "for name in names:\n",
    "    key = len(name)\n",
    "    d[key].append(name)\n",
    "d"
   ]
  },
  {
   "cell_type": "code",
   "execution_count": 31,
   "metadata": {
    "collapsed": false
   },
   "outputs": [
    {
     "name": "stdout",
     "output_type": "stream",
     "text": [
      "@obama False 20 True\n",
      "@obama False 20 True\n"
     ]
    }
   ],
   "source": [
    "def twitter_search(handle, retweets, numtweets, popular):\n",
    "    print handle, retweets, numtweets, popular\n",
    "\n",
    "twitter_search('@obama', False, 20, True) # Hard to understand if function signature not known\n",
    "twitter_search('@obama', retweets=False, numtweets=20, popular=True) # Better"
   ]
  },
  {
   "cell_type": "code",
   "execution_count": 44,
   "metadata": {
    "collapsed": false
   },
   "outputs": [
    {
     "name": "stdout",
     "output_type": "stream",
     "text": [
      "TestResults(failed=0, attempted=4)\n",
      "0\n",
      "4\n"
     ]
    }
   ],
   "source": [
    "from collections import namedtuple\n",
    "TestResults = namedtuple('TestResults', ['failed', 'attempted'])\n",
    "\n",
    "def testMod():\n",
    "    return TestResults(failed=0, attempted=4)\n",
    "\n",
    "result = testMod()\n",
    "print result\n",
    "print result.failed\n",
    "print result[1]"
   ]
  },
  {
   "cell_type": "code",
   "execution_count": null,
   "metadata": {
    "collapsed": true
   },
   "outputs": [],
   "source": []
  }
 ],
 "metadata": {
  "hide_input": false,
  "kernelspec": {
   "display_name": "Python 2",
   "language": "python",
   "name": "python2"
  },
  "language_info": {
   "codemirror_mode": {
    "name": "ipython",
    "version": 2
   },
   "file_extension": ".py",
   "mimetype": "text/x-python",
   "name": "python",
   "nbconvert_exporter": "python",
   "pygments_lexer": "ipython2",
   "version": "2.7.11"
  }
 },
 "nbformat": 4,
 "nbformat_minor": 0
}
